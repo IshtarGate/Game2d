{
 "cells": [
  {
   "cell_type": "code",
   "execution_count": null,
   "metadata": {},
   "outputs": [],
   "source": [
    "# python standard library\n",
    "# https://docs.python.org/3/library/index.html#library-index\n",
    "# http://stackoverflow.com/questions/5506110/is-it-possible-to-install-another-version-of-python-to-virtualenv\n",
    "# https://pythonhosted.org/neo/\n",
    "# https://docs.python.org/3/tutorial/controlflow.html"
   ]
  },
  {
   "cell_type": "code",
   "execution_count": 1,
   "metadata": {},
   "outputs": [
    {
     "name": "stdout",
     "output_type": "stream",
     "text": [
      "first line \nsecond line\nshit\\nshit\\nshit\ndododododododododorerererere\ndongle\n[1, 2, 3, 34, 544, 6]\n"
     ]
    }
   ],
   "source": [
    "# 3. An Informal Introduction to Python\n",
    "77//2\n",
    "2**6\n",
    "# dongles=1\n",
    "# print(dongles)\n",
    "'doesn\\'t'\n",
    "print('first line \\nsecond line')\n",
    "print(r'shit\\nshit\\nshit') # preface with r to print raw output\n",
    "print(9*'do'+5*'re')\n",
    "print('dong' 'le')\n",
    "word='python'\n",
    "word[1]\n",
    "word[0:1]+word[1:]\n",
    "len(word)\n",
    "myList=[1,2,3,34,544,6]\n",
    "myList[:]=[]\n",
    "a=[1,2,3,34,544,6]\n",
    "for i in list(range(len(a))):\n",
    "    myList.append(a[i])\n",
    "print(myList)"
   ]
  },
  {
   "cell_type": "code",
   "execution_count": 35,
   "metadata": {},
   "outputs": [
    {
     "name": "stdout",
     "output_type": "stream",
     "text": [
      "[0, 0, 0, 0, 0]\n",
      "[[0, 0, 0, 0, 0], [0, 0, 0, 0, 0], [0, 0, 0, 0, 0], [0, 0, 0, 0, 0], [0, 0, 0, 0, 0]]\n"
     ]
    }
   ],
   "source": [
    "myRange=list(range(5))\n",
    "mat1=[]\n",
    "mat2=[]\n",
    "for i in myRange:\n",
    "    mat1.append(0)\n",
    "for i in myRange:\n",
    "    mat2.append(mat1)\n",
    "print(mat2)"
   ]
  },
  {
   "cell_type": "code",
   "execution_count": 55,
   "metadata": {},
   "outputs": [
    {
     "name": "stdout",
     "output_type": "stream",
     "text": [
      "[<__main__.MyClass object at 0x0411C130>]\n"
     ]
    }
   ],
   "source": [
    "a=[1,2,3,4]\n",
    "\n",
    "\n",
    "classList=[]\n",
    "class MyClass:\n",
    "    def __init__(self,position):\n",
    "        self.position=position\n",
    "    def update(self):\n",
    "        self.position=self.position+1\n",
    "\n",
    "classList.append(MyClass(0))\n",
    "print(a)\n",
    "print(classList)\n",
    "# classList\n",
    "# print(classList.ai.position)\n",
    "# jakesClass=MyClass(0)\n",
    "# print(jakesClass.position)\n",
    "# jakesClass.update()\n",
    "# print(jakesClass.position)"
   ]
  },
  {
   "cell_type": "code",
   "execution_count": 64,
   "metadata": {},
   "outputs": [
    {
     "name": "stdout",
     "output_type": "stream",
     "text": [
      "['devin is really cute']\n",
      "['devin is really cute', 'james is a fat ass']\n"
     ]
    }
   ],
   "source": [
    "bulletList=[]\n",
    "if player1isFiring==true\n",
    "    bulletList.append(newBullet())"
   ]
  },
  {
   "cell_type": "code",
   "execution_count": 59,
   "metadata": {},
   "outputs": [
    {
     "name": "stdout",
     "output_type": "stream",
     "text": [
      "3\n"
     ]
    }
   ],
   "source": [
    "def f(x,y):\n",
    "    print(x+y)\n",
    "\n",
    "f(1,2)"
   ]
  }
 ],
 "metadata": {
  "kernelspec": {
   "display_name": "Python 3",
   "language": "python",
   "name": "python3"
  },
  "language_info": {
   "codemirror_mode": {
    "name": "ipython",
    "version": 3.0
   },
   "file_extension": ".py",
   "mimetype": "text/x-python",
   "name": "python",
   "nbconvert_exporter": "python",
   "pygments_lexer": "ipython3",
   "version": "3.5.1"
  }
 },
 "nbformat": 4,
 "nbformat_minor": 0
}